{
 "cells": [
  {
   "cell_type": "code",
   "execution_count": 4,
   "id": "4ff16c3c-8379-4d98-9824-a8ba24fcb7df",
   "metadata": {},
   "outputs": [],
   "source": [
    "from uio import runner\n",
    "from PIL import Image \n",
    "import numpy as np\n",
    "\n",
    "model = runner.ModelRunner(\"large\", \"chkpts/large_1000k.bin\")\n",
    "\n"
   ]
  },
  {
   "cell_type": "code",
   "execution_count": 14,
   "id": "084b2d6b-88d9-44f8-95cb-d281c5b758ea",
   "metadata": {},
   "outputs": [
    {
     "name": "stdout",
     "output_type": "stream",
     "text": [
      "unanswerable\n"
     ]
    }
   ],
   "source": [
    "with Image.open(\"app/TestData/Taiwan-Blue-Magpie.jpeg\") as img:\n",
    "  image = np.array(img.convert('RGB'))\n",
    "\n",
    "# Answer a VQA question, note this might take over a minute the first time it is \n",
    "# called while the function is compiled by jax\n",
    "output = model.vqa(image, \"\")\n",
    "print(output[\"text\"])  # Should print `green`"
   ]
  },
  {
   "cell_type": "code",
   "execution_count": 16,
   "id": "6e1a3ab8-7483-45bd-ba16-4bb2e5b5483c",
   "metadata": {},
   "outputs": [
    {
     "data": {
      "text/plain": [
       "['__class__',\n",
       " '__delattr__',\n",
       " '__dict__',\n",
       " '__dir__',\n",
       " '__doc__',\n",
       " '__eq__',\n",
       " '__format__',\n",
       " '__ge__',\n",
       " '__getattribute__',\n",
       " '__gt__',\n",
       " '__hash__',\n",
       " '__init__',\n",
       " '__init_subclass__',\n",
       " '__le__',\n",
       " '__lt__',\n",
       " '__module__',\n",
       " '__ne__',\n",
       " '__new__',\n",
       " '__reduce__',\n",
       " '__reduce_ex__',\n",
       " '__repr__',\n",
       " '__setattr__',\n",
       " '__sizeof__',\n",
       " '__str__',\n",
       " '__subclasshook__',\n",
       " '__weakref__',\n",
       " '_compiled_batch_fn',\n",
       " '_compiled_option_fn',\n",
       " '_extract_boxes',\n",
       " '_extract_image',\n",
       " '_extract_pose',\n",
       " '_extract_text',\n",
       " '_get_answer_options_fn',\n",
       " '_get_batch_fn',\n",
       " 'caption',\n",
       " 'compiled',\n",
       " 'depth',\n",
       " 'image_classification',\n",
       " 'image_generation',\n",
       " 'image_inpainting',\n",
       " 'log_inputs',\n",
       " 'max_input_len',\n",
       " 'max_options',\n",
       " 'model',\n",
       " 'object_localization',\n",
       " 'object_segmentation',\n",
       " 'pad_to_max',\n",
       " 'params',\n",
       " 'pose',\n",
       " 'refexp',\n",
       " 'region_caption',\n",
       " 'region_classification',\n",
       " 'run',\n",
       " 'segmentation_based_generation',\n",
       " 'surface_normal',\n",
       " 'tokenizer',\n",
       " 'vqa']"
      ]
     },
     "execution_count": 16,
     "metadata": {},
     "output_type": "execute_result"
    }
   ],
   "source": [
    "dir(model)"
   ]
  },
  {
   "cell_type": "code",
   "execution_count": null,
   "id": "f9347ffa-4bde-4193-a1fa-77fe7a45f404",
   "metadata": {},
   "outputs": [],
   "source": []
  }
 ],
 "metadata": {
  "kernelspec": {
   "display_name": "Python 3 (ipykernel)",
   "language": "python",
   "name": "python3"
  },
  "language_info": {
   "codemirror_mode": {
    "name": "ipython",
    "version": 3
   },
   "file_extension": ".py",
   "mimetype": "text/x-python",
   "name": "python",
   "nbconvert_exporter": "python",
   "pygments_lexer": "ipython3",
   "version": "3.9.13"
  }
 },
 "nbformat": 4,
 "nbformat_minor": 5
}
